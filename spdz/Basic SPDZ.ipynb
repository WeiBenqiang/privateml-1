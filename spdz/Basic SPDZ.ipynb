{
 "cells": [
  {
   "cell_type": "code",
   "execution_count": 27,
   "metadata": {
    "collapsed": true
   },
   "outputs": [],
   "source": [
    "import random"
   ]
  },
  {
   "cell_type": "markdown",
   "metadata": {},
   "source": [
    "## Parameters"
   ]
  },
  {
   "cell_type": "code",
   "execution_count": 4,
   "metadata": {
    "collapsed": true
   },
   "outputs": [],
   "source": [
    "#\n",
    "# Use e.g. https://www.compilejava.net/\n",
    "#\n",
    "#import java.util.*;\n",
    "#import java.math.*;\n",
    "#\n",
    "#public class Entrypoint\n",
    "#{\n",
    "#  public static void main(String[] args)\n",
    "#  {\n",
    "#    BigInteger q = BigInteger.probablePrime(128, new Random());    \n",
    "#    System.out.println(q);\n",
    "#  }\n",
    "#}\n",
    "\n",
    "# small and large field\n",
    "Q = 6497992661811505123 # < 64 bits\n",
    "P = 1802216888453791673313287943102424579859887305661122324585863735744776691801009887 # < 270 bits"
   ]
  },
  {
   "cell_type": "markdown",
   "metadata": {},
   "source": [
    "# Public and private values"
   ]
  },
  {
   "cell_type": "code",
   "execution_count": 47,
   "metadata": {
    "collapsed": true
   },
   "outputs": [],
   "source": [
    "class PublicValue:\n",
    "    \n",
    "    def __init__(self, value):\n",
    "        self.value = value\n",
    "    \n",
    "    def unwrap(self):\n",
    "        return self.value\n",
    "    \n",
    "    def add(x, y):\n",
    "        if type(y) is int: y = PublicValue(y)\n",
    "        if type(y) is PublicValue:\n",
    "            value = (x.value + y.value) % Q\n",
    "            return PublicValue(value)\n",
    "        if type(y) is PrivateValue:\n",
    "            share0 = (x.value + y.share0) % Q\n",
    "            share1 =            y.share1\n",
    "            return PrivateValue(None, share0, share1)\n",
    "        \n",
    "    def sub(x, y):\n",
    "        if type(y) is int: y = PublicValue(y)\n",
    "        if type(y) is PublicValue:\n",
    "            value = (x.value - y.value) % Q\n",
    "            return PublicValue(value)\n",
    "        if type(y) is PrivateValue:\n",
    "            share0 = (x.value + Q - y.share0) % Q\n",
    "            share1 = (          Q - y.share1) % Q\n",
    "            return PrivateValue(None, share0, share1)\n",
    "        \n",
    "    def mul(x, y):\n",
    "        if type(y) is int: y = PublicValue(y)\n",
    "        if type(y) is PublicValue:\n",
    "            value = (x.value * y.value) % Q\n",
    "            return PublicValue(value)\n",
    "        if type(y) is PrivateValue:\n",
    "            share0 = (x.value * y.share0) % Q\n",
    "            share1 = (x.value * y.share1) % Q\n",
    "            return PrivateValue(None, share0, share1)\n",
    "    \n",
    "    def square(x):\n",
    "        value = pow(x.value, 2, Q)\n",
    "        return PublicValue(value)\n",
    "    \n",
    "#     def pows(x, highest_power):\n",
    "#         x_powers = ( np.power(x.values, e) % Q for e in range(0, highest_power+1) )\n",
    "#         return [ PublicTensor(v) for v in x_powers ]\n",
    "    \n",
    "    def __add__(x, y):\n",
    "        return x.add(y)\n",
    "    \n",
    "    def __sub__(x, y):\n",
    "        return x.sub(y)\n",
    "    \n",
    "    def __mul__(x, y):\n",
    "        return x.mul(y)\n",
    "        \n",
    "    def __repr__(self):\n",
    "        return \"PublicValue(%s)\" % self.value"
   ]
  },
  {
   "cell_type": "code",
   "execution_count": 48,
   "metadata": {
    "collapsed": true
   },
   "outputs": [],
   "source": [
    "def share(secret):\n",
    "    share0 = random.randrange(Q)\n",
    "    share1 = (secret - share0) % Q\n",
    "    return [share0, share1]\n",
    "\n",
    "def reconstruct(share0, share1):\n",
    "    return (share0 + share1) % Q"
   ]
  },
  {
   "cell_type": "code",
   "execution_count": 49,
   "metadata": {
    "collapsed": true
   },
   "outputs": [],
   "source": [
    "def generate_mul_triple():\n",
    "    a = random.randrange(Q)\n",
    "    b = random.randrange(Q)\n",
    "    c = (a * b) % Q\n",
    "    return PrivateValue(a), PrivateValue(b), PrivateValue(c)"
   ]
  },
  {
   "cell_type": "code",
   "execution_count": 50,
   "metadata": {
    "collapsed": true
   },
   "outputs": [],
   "source": [
    "def generate_square_triple():\n",
    "    a = random.randrange(Q)\n",
    "    b = pow(a, 2, Q)\n",
    "    return PrivateValue(a), PrivateValue(b)"
   ]
  },
  {
   "cell_type": "code",
   "execution_count": 51,
   "metadata": {},
   "outputs": [],
   "source": [
    "class PrivateValue:\n",
    "    \n",
    "    def __init__(self, value, share0=None, share1=None):\n",
    "        if not value is None:\n",
    "            share0, share1 = share(value)\n",
    "        self.share0 = share0\n",
    "        self.share1 = share1\n",
    "    \n",
    "    def reconstruct(self):\n",
    "        return PublicValue(reconstruct(self.share0, self.share1))\n",
    "    \n",
    "    def unwrap(self):\n",
    "        return reconstruct(self.share0, self.share1)\n",
    "    \n",
    "    def add(x, y):\n",
    "        if type(y) is int: y = PublicValue(y)\n",
    "        if type(y) is PublicValue:\n",
    "            share0 = (x.share0 + y.value) % Q\n",
    "            share1 =  x.share1\n",
    "            return PrivateValue(None, share0, share1)\n",
    "        if type(y) is PrivateValue:\n",
    "            share0 = (x.share0 + y.share0) % Q\n",
    "            share1 = (x.share1 + y.share1) % Q\n",
    "            return PrivateValue(None, share0, share1)\n",
    "        \n",
    "    def sub(x, y):\n",
    "        if type(y) is int: y = PublicValue(y)\n",
    "        if type(y) is PublicValue:\n",
    "            share0 = (x.share0 - y.value) % Q\n",
    "            share1 =  x.share1\n",
    "            return PrivateValue(None, share0, share1)\n",
    "        if type(y) is PrivateValue:\n",
    "            share0 = (x.share0 - y.share0) % Q\n",
    "            share1 = (x.share1 - y.share1) % Q\n",
    "            return PrivateValue(None, share0, share1)\n",
    "        \n",
    "    def mul(x, y):\n",
    "        if type(y) is int: y = PublicValue(y)\n",
    "        if type(y) is PublicValue:\n",
    "            share0 = (x.share0 * y.value) % Q\n",
    "            share1 = (x.share1 * y.value) % Q\n",
    "            return PrivateValue(None, share0, share1)\n",
    "        if type(y) is PrivateValue:\n",
    "            a, b, a_mul_b = generate_mul_triple()\n",
    "            alpha = (x - a).reconstruct()\n",
    "            beta  = (y - b).reconstruct()\n",
    "            return alpha.mul(beta) + \\\n",
    "                   alpha.mul(b) + \\\n",
    "                   a.mul(beta) + \\\n",
    "                   a_mul_b\n",
    "                    \n",
    "    def square(x):\n",
    "        a, aa = generate_square_triple()\n",
    "        alpha = (x - a).reconstruct()\n",
    "        return alpha.square() + \\\n",
    "               (a * alpha) * 2 + \\\n",
    "               aa\n",
    "    \n",
    "#     def pows(x, highest_power):\n",
    "#         x_powers = ( np.power(x.values, e) % Q for e in range(0, highest_power+1) )\n",
    "#         return [ PublicTensor(v) for v in x_powers ]\n",
    "    \n",
    "    def __add__(x, y):\n",
    "        return x.add(y)\n",
    "    \n",
    "    def __sub__(x, y):\n",
    "        return x.sub(y)\n",
    "    \n",
    "    def __mul__(x, y):\n",
    "        return x.mul(y)\n",
    "        \n",
    "    def __repr__(self):\n",
    "        return \"PrivateValue(%s)\" % self.unwrap()"
   ]
  },
  {
   "cell_type": "code",
   "execution_count": 52,
   "metadata": {},
   "outputs": [],
   "source": [
    "v = 5\n",
    "w = 3\n",
    "\n",
    "for x_type in [PublicValue, PrivateValue]:\n",
    "    for y_type in [PublicValue, PrivateValue]:\n",
    "        \n",
    "        x = x_type(v)\n",
    "        y = y_type(w)\n",
    "\n",
    "        z = x + y; assert z.unwrap() == v + w\n",
    "        z = x - y; assert z.unwrap() == v - w\n",
    "        z = x * y; assert z.unwrap() == v * w\n",
    "        z = x.square(); assert z.unwrap() == v * v"
   ]
  },
  {
   "cell_type": "markdown",
   "metadata": {},
   "source": [
    "## Powering and polynomials"
   ]
  },
  {
   "cell_type": "code",
   "execution_count": 10,
   "metadata": {
    "collapsed": true
   },
   "outputs": [],
   "source": [
    "def generate_powering_triple(exponent, field=Q):\n",
    "    a = random.randrange(field)\n",
    "    return [ share(pow(a, e, field)) for e in range(1, exponent+1) ]\n",
    "\n",
    "a, aa, aaa, aaaa = generate_powering_triple(4)\n",
    "assert reconstruct(a) * reconstruct(a) % Q == reconstruct(aa) \n",
    "assert reconstruct(aa) * reconstruct(a) % Q == reconstruct(aaa)\n",
    "assert reconstruct(aaa) * reconstruct(a) % Q == reconstruct(aaaa)"
   ]
  },
  {
   "cell_type": "code",
   "execution_count": 11,
   "metadata": {},
   "outputs": [
    {
     "ename": "ModuleNotFoundError",
     "evalue": "No module named 'scipy'",
     "traceback": [
      "\u001b[0;31m---------------------------------------------------------------------------\u001b[0m",
      "\u001b[0;31mModuleNotFoundError\u001b[0m                       Traceback (most recent call last)",
      "\u001b[0;32m<ipython-input-11-1b02547807cf>\u001b[0m in \u001b[0;36m<module>\u001b[0;34m()\u001b[0m\n\u001b[1;32m      1\u001b[0m \u001b[0;32mfrom\u001b[0m \u001b[0mfunctools\u001b[0m \u001b[0;32mimport\u001b[0m \u001b[0mreduce\u001b[0m\u001b[0;34m\u001b[0m\u001b[0m\n\u001b[0;32m----> 2\u001b[0;31m \u001b[0;32mfrom\u001b[0m \u001b[0mscipy\u001b[0m\u001b[0;34m.\u001b[0m\u001b[0mmisc\u001b[0m \u001b[0;32mimport\u001b[0m \u001b[0mcomb\u001b[0m\u001b[0;34m\u001b[0m\u001b[0m\n\u001b[0m\u001b[1;32m      3\u001b[0m \u001b[0mbinom\u001b[0m \u001b[0;34m=\u001b[0m \u001b[0;32mlambda\u001b[0m \u001b[0mn\u001b[0m\u001b[0;34m,\u001b[0m \u001b[0mk\u001b[0m\u001b[0;34m:\u001b[0m \u001b[0mcomb\u001b[0m\u001b[0;34m(\u001b[0m\u001b[0mn\u001b[0m\u001b[0;34m,\u001b[0m \u001b[0mk\u001b[0m\u001b[0;34m,\u001b[0m \u001b[0mexact\u001b[0m\u001b[0;34m=\u001b[0m\u001b[0;32mTrue\u001b[0m\u001b[0;34m)\u001b[0m\u001b[0;34m\u001b[0m\u001b[0m\n\u001b[1;32m      4\u001b[0m \u001b[0;34m\u001b[0m\u001b[0m\n\u001b[1;32m      5\u001b[0m \u001b[0mONE\u001b[0m \u001b[0;34m=\u001b[0m \u001b[0;34m[\u001b[0m\u001b[0;36m1\u001b[0m\u001b[0;34m,\u001b[0m\u001b[0;36m0\u001b[0m\u001b[0;34m]\u001b[0m \u001b[0;31m# constant sharing of 1\u001b[0m\u001b[0;34m\u001b[0m\u001b[0m\n",
      "\u001b[0;31mModuleNotFoundError\u001b[0m: No module named 'scipy'"
     ],
     "output_type": "error"
    }
   ],
   "source": [
    "from functools import reduce\n",
    "from scipy.misc import comb\n",
    "binom = lambda n, k: comb(n, k, exact=True)\n",
    "\n",
    "ONE = [1,0] # constant sharing of 1\n",
    "\n",
    "def pows(x, triple, field=Q):\n",
    "    # local masking\n",
    "    a = triple[0]\n",
    "    v = sub(x, a)\n",
    "    # communication: the players simultanously send their share to the other\n",
    "    epsilon = reconstruct(v)\n",
    "    # local combination\n",
    "    x_powers = []\n",
    "    for exponent in range(1, len(triple)+1):\n",
    "        # prepare all term values\n",
    "        a_powers = [ONE] + triple[:exponent]\n",
    "        e_powers = [ pow(epsilon, e, Q) for e in range(exponent+1) ]\n",
    "        coeffs   = [ binom(exponent, k) for k in range(exponent+1) ]\n",
    "        # compute and sum terms\n",
    "        terms = ( mul_public(a, c * e) for a, c, e in zip(a_powers, coeffs, reversed(e_powers)) )\n",
    "        x_powers.append(reduce(lambda x,y: add(x, y, field), terms))\n",
    "    return x_powers\n",
    "\n",
    "x = share(4)\n",
    "\n",
    "xs = pows(x, generate_powering_triple(3))\n",
    "assert [ reconstruct(x) for x in xs ] == [ pow(4,e,Q) for e in range(1,3+1) ]\n",
    "\n",
    "xs = pows(x, generate_powering_triple(10))\n",
    "assert [ reconstruct(x) for x in xs ] == [ pow(4,e,Q) for e in range(1,10+1) ]"
   ]
  },
  {
   "cell_type": "code",
   "execution_count": null,
   "metadata": {
    "collapsed": true
   },
   "outputs": [],
   "source": [
    "def pol_public(x, coeffs, triple, field):\n",
    "    powers = [ONE] + pows(x, triple, field)\n",
    "    terms = ( mul_public(xe, ce, field) for xe,ce in zip(powers, coeffs) )\n",
    "    return reduce(lambda y,z: add(y, z, field), terms)\n",
    "\n",
    "x = share(5)\n",
    "coeffs = [1,2,3,4]\n",
    "y = pol_public(x, coeffs, generate_powering_triple(len(coeffs)-1, Q), Q)\n",
    "assert reconstruct(y) == (1*pow(5,0) + 2*pow(5,1) + 3*pow(5,2) + 4*pow(5,3)) % Q"
   ]
  },
  {
   "cell_type": "markdown",
   "metadata": {},
   "source": [
    "### Up and down sharing"
   ]
  },
  {
   "cell_type": "code",
   "execution_count": null,
   "metadata": {
    "collapsed": true
   },
   "outputs": [],
   "source": [
    "def generate_statistical_mask():\n",
    "    return random.randrange(2*BOUND * BASE**KAPPA)\n",
    "\n",
    "def generate_zero_triple(field):\n",
    "    return share(0, field)\n",
    "\n",
    "def convert(x, from_field, to_field, zero_triple):\n",
    "    # local mapping to positive representation\n",
    "    x = add_public(x, BOUND, from_field)\n",
    "    # local masking and conversion by player 0\n",
    "    r = generate_statistical_mask()\n",
    "    y0 = (zero_triple[0] - r) % to_field\n",
    "    # exchange of masked share: one round of communication\n",
    "    e = (x[0] + r) % from_field\n",
    "    # local conversion by player 1\n",
    "    xr = (e + x[1]) % from_field\n",
    "    y1 = (zero_triple[1] + xr) % to_field\n",
    "    # local combine\n",
    "    y = [y0, y1]\n",
    "    # local mapping back from positive representation\n",
    "    y = sub_public(y, BOUND, to_field)\n",
    "    return y\n",
    "\n",
    "def upshare(x, large_zero_triple):\n",
    "    return convert(x, Q, P, large_zero_triple)\n",
    "\n",
    "def downshare(x, small_zero_triple):\n",
    "    return convert(x, P, Q, small_zero_triple)\n",
    "\n",
    "x = share(encode(-.5, Q), Q)\n",
    "y = upshare(x, generate_zero_triple(P))\n",
    "assert reconstruct(y, P) == encode(-.5, P)\n",
    "z = downshare(y, generate_zero_triple(Q))\n",
    "assert reconstruct(z, Q) == encode(-.5, Q)"
   ]
  },
  {
   "cell_type": "code",
   "execution_count": null,
   "metadata": {
    "collapsed": true
   },
   "outputs": [],
   "source": [
    "x = share(encode(-.5, Q), Q)\n",
    "x2 = mul(x, x, generate_multiplication_triple(Q), Q)\n",
    "x4 = mul(x2, x2, generate_multiplication_triple(Q), Q)\n",
    "y = truncate(x4, 4 * PRECISION_FRACTIONAL - PRECISION_FRACTIONAL, Q)\n",
    "assert not decode(reconstruct(y, Q), Q) == (-.5)**4\n",
    "\n",
    "x = share(encode(-.5, Q), Q)\n",
    "x = upshare(x, generate_zero_triple(P))\n",
    "x2 = mul(x, x, generate_multiplication_triple(P), P)\n",
    "x4 = mul(x2, x2, generate_multiplication_triple(P), P)\n",
    "y = truncate(x4, 4 * PRECISION_FRACTIONAL - PRECISION_FRACTIONAL, P)\n",
    "y = downshare(y, generate_zero_triple(Q))\n",
    "assert decode(reconstruct(y, Q), Q) == (-.5)**4"
   ]
  },
  {
   "cell_type": "markdown",
   "metadata": {},
   "source": [
    "## Fixed-point encoding"
   ]
  },
  {
   "cell_type": "code",
   "execution_count": null,
   "metadata": {
    "collapsed": true
   },
   "outputs": [],
   "source": []
  },
  {
   "cell_type": "code",
   "execution_count": 12,
   "metadata": {
    "collapsed": true
   },
   "outputs": [],
   "source": [
    "\n",
    "BASE = 10\n",
    "KAPPA = 9 # ~29 bits\n",
    "\n",
    "PRECISION_INTEGRAL = 2\n",
    "PRECISION_FRACTIONAL = 7\n",
    "PRECISION = PRECISION_INTEGRAL + PRECISION_FRACTIONAL\n",
    "BOUND = BASE**PRECISION\n",
    "\n",
    "Q_MAXDEGREE = 2\n",
    "assert Q > BASE**(PRECISION * Q_MAXDEGREE) # supported multiplication degree (without truncation)\n",
    "assert Q > 2*BOUND * BASE**KAPPA # supported kappa when in positive range \n",
    "\n",
    "P_MAXDEGREE = 9\n",
    "assert P > Q\n",
    "assert P > BASE**(PRECISION * P_MAXDEGREE)"
   ]
  },
  {
   "cell_type": "code",
   "execution_count": 13,
   "metadata": {
    "collapsed": true
   },
   "outputs": [],
   "source": [
    "def encode(rational, field=Q, precision_fractional=PRECISION_FRACTIONAL):\n",
    "    upscaled = int(rational * BASE**precision_fractional)\n",
    "    field_element = upscaled % field\n",
    "    return field_element\n",
    "\n",
    "def decode(field_element, field=Q, precision_fractional=PRECISION_FRACTIONAL):\n",
    "    upscaled = field_element if field_element <= field/2 else field_element - field\n",
    "    rational = upscaled / BASE**precision_fractional\n",
    "    return rational"
   ]
  },
  {
   "cell_type": "code",
   "execution_count": 14,
   "metadata": {
    "collapsed": true
   },
   "outputs": [],
   "source": [
    "# using trick from SecureML paper that only requires a local operation\n",
    "\n",
    "def truncate(x, amount=PRECISION_FRACTIONAL, field=Q):\n",
    "    y0 = x[0] // BASE**amount\n",
    "    y1 = field - ((field - x[1]) // BASE**amount)\n",
    "    return [y0, y1]"
   ]
  },
  {
   "cell_type": "code",
   "execution_count": 16,
   "metadata": {
    "collapsed": true
   },
   "outputs": [],
   "source": [
    "x = share(encode(-.5))\n",
    "\n",
    "x2 = truncate(mul( x,  x, generate_mul_triple()), PRECISION_FRACTIONAL)\n",
    "x4 = truncate(mul(x2, x2, generate_mul_triple()), PRECISION_FRACTIONAL)\n",
    "y = decode(reconstruct(x4))\n",
    "assert y == (-.5)**4\n",
    "\n",
    "x2 = mul( x,  x, generate_mul_triple())\n",
    "x4 = mul(x2, x2, generate_mul_triple())\n",
    "y = decode(reconstruct(truncate(x4, 2*PRECISION_FRACTIONAL)))\n",
    "assert not y == (-.5)**4"
   ]
  },
  {
   "cell_type": "code",
   "execution_count": null,
   "metadata": {
    "collapsed": true
   },
   "outputs": [],
   "source": []
  }
 ],
 "metadata": {
  "kernelspec": {
   "display_name": "Python 3",
   "language": "python",
   "name": "python3"
  },
  "language_info": {
   "codemirror_mode": {
    "name": "ipython",
    "version": 3
   },
   "file_extension": ".py",
   "mimetype": "text/x-python",
   "name": "python",
   "nbconvert_exporter": "python",
   "pygments_lexer": "ipython3",
   "version": "3.6.4"
  }
 },
 "nbformat": 4,
 "nbformat_minor": 2
}
