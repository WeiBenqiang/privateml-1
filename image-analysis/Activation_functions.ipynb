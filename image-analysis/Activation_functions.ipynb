{
 "cells": [
  {
   "cell_type": "code",
   "execution_count": null,
   "metadata": {},
   "outputs": [],
   "source": [
    "import numpy as np\n",
    "import matplotlib.pyplot as plt\n",
    "\n",
    "\n",
    "def PolyApprox(x, coefficients): \n",
    "    return sum([coefficient * x ** (len(coefficients) - 1 - i) for i, coefficient in enumerate(coefficients)])\n",
    "\n",
    "    \n",
    "def computeCoefficientsReLU(n_coefficients, domain=(-100, 100)):\n",
    "    x = range(-100,100)\n",
    "    y = [0] * 100 + range(0,100)\n",
    "    return np.polyfit(x, y, 30)\n",
    "    \n",
    "if __name__ == \"__main__\":\n",
    "    coefficients = computeCoefficientsReLU(9, (-300, 300))\n",
    "    \n",
    "    print coefficients\n",
    "    print PolyApprox(10, coefficients)"
   ]
  }
 ],
 "metadata": {
  "kernelspec": {
   "display_name": "Python 2",
   "language": "python",
   "name": "python2"
  },
  "language_info": {
   "codemirror_mode": {
    "name": "ipython",
    "version": 2
   },
   "file_extension": ".py",
   "mimetype": "text/x-python",
   "name": "python",
   "nbconvert_exporter": "python",
   "pygments_lexer": "ipython2",
   "version": "2.7.13"
  }
 },
 "nbformat": 4,
 "nbformat_minor": 2
}
