{
 "cells": [
  {
   "cell_type": "code",
   "execution_count": 6,
   "metadata": {},
   "outputs": [
    {
     "name": "stdout",
     "output_type": "stream",
     "text": [
      "[  5.85603649e-53   4.17602001e-52  -4.45080846e-48  -2.85139732e-47\n",
      "   1.52805459e-43   8.71122300e-43  -3.13277492e-39  -1.57156987e-38\n",
      "   4.27207493e-35   1.86094640e-34  -4.08515226e-31  -1.52064165e-30\n",
      "   2.81387067e-27   8.77582782e-27  -1.41200892e-23  -3.59950023e-23\n",
      "   5.16146583e-20   1.04169099e-19  -1.36055133e-16  -2.08320206e-16\n",
      "   2.53364934e-13   2.77279754e-13  -3.22638383e-10  -2.30871604e-10\n",
      "   2.68219303e-07   1.08346118e-07  -1.38313107e-04  -2.36269663e-05\n",
      "   5.03495068e-02   5.01522275e-01   9.99068925e-01]\n",
      "9.88962575636\n"
     ]
    }
   ],
   "source": [
    "import numpy as np\n",
    "import matplotlib.pyplot as plt\n",
    "\n",
    "\n",
    "def PolyApprox(x, coefficients): \n",
    "    return sum([coefficient * x ** (len(coefficients) - 1 - i) for i, coefficient in enumerate(coefficients)])\n",
    "\n",
    "\n",
    "def computeCoefficientsReLU(n_coefficients, domain=(-100, 100)):\n",
    "    x = range(-100,100)\n",
    "    y = [0] * 100 + range(0,100)\n",
    "    return np.polyfit(x, y, 30)\n",
    "    \n",
    "if __name__ == \"__main__\":\n",
    "    coefficients = computeCoefficientsReLU(9, (-300, 300))\n",
    "    \n",
    "    print coefficients\n",
    "    print PolyApprox(10, coefficients)"
   ]
  }
 ],
 "metadata": {
  "kernelspec": {
   "display_name": "Python 2",
   "language": "python",
   "name": "python2"
  },
  "language_info": {
   "codemirror_mode": {
    "name": "ipython",
    "version": 2
   },
   "file_extension": ".py",
   "mimetype": "text/x-python",
   "name": "python",
   "nbconvert_exporter": "python",
   "pygments_lexer": "ipython2",
   "version": "2.7.13"
  }
 },
 "nbformat": 4,
 "nbformat_minor": 2
}
