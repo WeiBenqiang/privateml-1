{
 "cells": [
  {
   "cell_type": "code",
   "execution_count": 4,
   "metadata": {},
   "outputs": [],
   "source": [
    "import keras\n",
    "import numpy as np\n",
    "from pond.tensor import NativeTensor, PrivateEncodedTensor, PublicEncodedTensor\n",
    "from pond.nn import Dense, Sigmoid, ReluExact, Reveal, Diff, Softmax, CrossEntropy, Sequential, DataLoader, Conv2D, AveragePooling2D, Flatten\n",
    "from keras.utils import to_categorical"
   ]
  },
  {
   "cell_type": "markdown",
   "metadata": {},
   "source": [
    "## read data"
   ]
  },
  {
   "cell_type": "code",
   "execution_count": 5,
   "metadata": {},
   "outputs": [],
   "source": [
    "# read data\n",
    "(x_train, y_train), (x_test, y_test) = keras.datasets.mnist.load_data()\n",
    "x_train = x_train[:,np.newaxis,:,:] / 255.0\n",
    "x_test = x_test[:,np.newaxis,:,:] / 255.0\n",
    "y_train = to_categorical(y_train, 10)\n",
    "y_test = to_categorical(y_test, 10)"
   ]
  },
  {
   "cell_type": "markdown",
   "metadata": {},
   "source": [
    "## Convnet using NativeTensor"
   ]
  },
  {
   "cell_type": "code",
   "execution_count": 6,
   "metadata": {},
   "outputs": [],
   "source": [
    "classifier = Sequential([\n",
    "    Conv2D((4, 4, 1, 20), strides=2, padding=1, filter_init=lambda shp: np.random.normal(scale=0.1, size=shp)),\n",
    "    ReluExact(),\n",
    "    AveragePooling2D(pool_size=(2,2)),\n",
    "    Flatten(),\n",
    "    Dense(10, 980),\n",
    "    Reveal(),\n",
    "    Softmax()\n",
    "])"
   ]
  },
  {
   "cell_type": "code",
   "execution_count": 7,
   "metadata": {},
   "outputs": [
    {
     "name": "stdout",
     "output_type": "stream",
     "text": [
      "2018-02-27 20:20:15.558400 Epoch 0\n",
      "60000/60000 [=============================>] - train_los: 0.20762011291405977 - train_acc 0.96875 - val_loss 0.44470974705221306 - val_acc 0.8637"
     ]
    }
   ],
   "source": [
    "classifier.initialize()\n",
    "classifier.fit(\n",
    "    x_train=DataLoader(x_train, wrapper=NativeTensor),\n",
    "    y_train=DataLoader(y_train, wrapper=NativeTensor),\n",
    "    x_valid=DataLoader(x_test, wrapper=NativeTensor),\n",
    "    y_valid=DataLoader(y_test, wrapper=NativeTensor),\n",
    "    loss=CrossEntropy(),\n",
    "    epochs=1,\n",
    "    batch_size=32,\n",
    "    verbose=1,\n",
    ")"
   ]
  },
  {
   "cell_type": "markdown",
   "metadata": {},
   "source": [
    "## PublicEncodedTensor"
   ]
  },
  {
   "cell_type": "code",
   "execution_count": null,
   "metadata": {},
   "outputs": [],
   "source": [
    "classifier.initialize()\n",
    "classifier.fit(\n",
    "    x_train=DataLoader(x_train, wrapper=PublicEncodedTensor),\n",
    "    y_train=DataLoader(y_train, wrapper=PublicEncodedTensor),\n",
    "    x_valid=DataLoader(x_test, wrapper=PublicEncodedTensor),\n",
    "    y_valid=DataLoader(y_test, wrapper=PublicEncodedTensor),\n",
    "    loss=CrossEntropy(),\n",
    "    epochs=1,\n",
    "    batch_size=32,\n",
    "    verbose=1,\n",
    ")"
   ]
  },
  {
   "cell_type": "markdown",
   "metadata": {},
   "source": [
    "## PrivateEncodedTensor"
   ]
  },
  {
   "cell_type": "code",
   "execution_count": null,
   "metadata": {},
   "outputs": [],
   "source": [
    "classifier.initialize()\n",
    "start = datetime.now()\n",
    "classifier.fit(\n",
    "    x_train=DataLoader(x_train, wrapper=PrivateEncodedTensor), \n",
    "    y_train=DataLoader(y_train, wrapper=PrivateEncodedTensor), \n",
    "    loss=CrossEntropy(), \n",
    "    epochs=1,\n",
    "    batch_size=32,\n",
    "    verbose=1\n",
    ")\n",
    "stop = datetime.now()\n",
    "print(\"Elapsed:\", stop - start)"
   ]
  }
 ],
 "metadata": {
  "anaconda-cloud": {},
  "kernelspec": {
   "display_name": "openmined",
   "language": "python",
   "name": "openmined"
  },
  "language_info": {
   "codemirror_mode": {
    "name": "ipython",
    "version": 3
   },
   "file_extension": ".py",
   "mimetype": "text/x-python",
   "name": "python",
   "nbconvert_exporter": "python",
   "pygments_lexer": "ipython3",
   "version": "3.6.2"
  }
 },
 "nbformat": 4,
 "nbformat_minor": 2
}
