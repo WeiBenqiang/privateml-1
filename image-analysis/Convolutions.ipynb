{
 "cells": [
  {
   "cell_type": "code",
   "execution_count": 19,
   "metadata": {
    "collapsed": false
   },
   "outputs": [],
   "source": [
    "import keras\n",
    "import numpy as np\n",
    "from pond.tensor import NativeTensor, PrivateEncodedTensor, PublicEncodedTensor\n",
    "from pond.nn import Dense"
   ]
  },
  {
   "cell_type": "markdown",
   "metadata": {},
   "source": [
    "## Conv2D Layer\n",
    "\n",
    "Some small unit-tests for the Conv2D layer. run forward pass with mnist image, and backward pass with random noise"
   ]
  },
  {
   "cell_type": "code",
   "execution_count": 20,
   "metadata": {
    "collapsed": false
   },
   "outputs": [],
   "source": [
    "\n",
    "class Conv2D():\n",
    "        \n",
    "    def __init__(self, fshape, strides=1, filter_init=lambda shp: np.random.normal(scale=0.1, size=shp)):\n",
    "        \"\"\" 2 Dimensional convolutional layer\n",
    "            fshape: tuple of rank 4\n",
    "            strides: int with stride size\n",
    "            filter init: lambda function with shape parameter\n",
    "            Example: Conv2D((4, 4, 1, 20), strides=2, filter_init=lambda shp: np.random.normal(scale=0.01, size=shp))       \n",
    "        \"\"\"\n",
    "        self.fshape = fshape\n",
    "        self.strides = strides\n",
    "        self.filter_init = filter_init\n",
    "        self.cache = None\n",
    "        self.initializer = None\n",
    "        \n",
    "    def initialize(self):\n",
    "        self.filters = self.filter_init(self.fshape)\n",
    "\n",
    "    def forward(self, x):\n",
    "        # TODO: padding \n",
    "        s = (x.shape[1] - self.fshape[0]) // self.strides + 1\n",
    "        self.initializer =  type(x)\n",
    "        fmap = self.initializer(np.zeros((x.shape[0], s, s, self.fshape[-1])))\n",
    "        \n",
    "        for j in range(s):\n",
    "            for i in range(s):\n",
    "                fmap[:, j, i, :] = (x[:, j * self.strides:j * self.strides + self.fshape[0], i * self.strides:i * self.strides + self.fshape[1], :, np.newaxis] * self.filters).sum(axis=(1, 2, 3))\n",
    "        self.cache = x\n",
    "        return fmap\n",
    "    \n",
    "    def backward(self, d_y, learning_rate):\n",
    "        x = self.cache\n",
    "        # compute gradients for internal parameters and update\n",
    "        d_weights = self.get_grad(x, d_y)\n",
    "        self.filters = (d_weights * learning_rate).neg() + self.filters\n",
    "        # compute and return external gradient\n",
    "        d_x = self.backwarded_error(d_y)\n",
    "        return d_x\n",
    "    \n",
    "    def backwarded_error(self, layer_err):\n",
    "        bfmap_shape = (layer_err.shape[1] - 1) * self.strides + self.fshape[0]\n",
    "        backwarded_fmap = self.initializer(np.zeros((layer_err.shape[0], bfmap_shape, bfmap_shape, self.fshape[-2])))\n",
    "        s = (backwarded_fmap.shape[1] - self.fshape[0]) // self.strides + 1\n",
    "        for j in range(s):\n",
    "            for i in range(s):\n",
    "                backwarded_fmap[:, j * self.strides:j  * self.strides + self.fshape[0], i * self.strides:i * self.strides + self.fshape[1]] += (self.filters[np.newaxis, ...] * layer_err[:, j:j+1, i:i+1, np.newaxis, :]).sum(axis=4)\n",
    "        return backwarded_fmap\n",
    "\n",
    "    def get_grad(self, x, layer_err):\n",
    "        total_layer_err = layer_err.sum(axis=(0, 1, 2))\n",
    "        filters_err = self.initializer(np.zeros(self.fshape))\n",
    "        s = (x.shape[1] - self.fshape[0]) // self.strides + 1\n",
    "        summed_x = x.sum(axis=0)\n",
    "        for j in range(s):\n",
    "            for i in range(s):\n",
    "                filters_err += summed_x[j  * self.strides:j * self.strides + self.fshape[0], i * self.strides:i * self.strides + self.fshape[1], :, np.newaxis]\n",
    "        return filters_err * total_layer_err\n",
    "\n"
   ]
  },
  {
   "cell_type": "code",
   "execution_count": 21,
   "metadata": {
    "collapsed": true
   },
   "outputs": [],
   "source": [
    "# read data\n",
    "(x_train, y_train), (x_test, y_test) = keras.datasets.mnist.load_data()\n",
    "image_batch = x_train[0:64,:,:,np.newaxis] / 255.0"
   ]
  },
  {
   "cell_type": "markdown",
   "metadata": {},
   "source": [
    "## NativeTensor"
   ]
  },
  {
   "cell_type": "code",
   "execution_count": 22,
   "metadata": {
    "collapsed": false
   },
   "outputs": [],
   "source": [
    "# forward pass\n",
    "conv_layer = Conv2D((4, 4, 1, 20), strides=2, filter_init=lambda shp: np.random.normal(scale=0.01, size=shp))\n",
    "conv_layer.initialize()\n",
    "conv_layer2 = Conv2D((4, 4, 1, 20), strides=2, filter_init=lambda shp: np.random.normal(scale=0.01, size=shp))\n",
    "output = conv_layer.forward(NativeTensor(image_batch))\n",
    "#backward pass (with random update)\n",
    "delta = NativeTensor(np.random.normal(size=output.shape))\n",
    "lr = 0.01\n",
    "_ = conv_layer.backward(d_y=delta, learning_rate=lr)"
   ]
  },
  {
   "cell_type": "markdown",
   "metadata": {},
   "source": [
    "## PublicEncodedTensor"
   ]
  },
  {
   "cell_type": "code",
   "execution_count": 23,
   "metadata": {
    "collapsed": false
   },
   "outputs": [],
   "source": [
    "# forward pass\n",
    "conv_layer = Conv2D((4, 4, 1, 20), strides=2, filter_init=lambda shp: np.random.normal(scale=0.01, size=shp))\n",
    "conv_layer.initialize()\n",
    "output = conv_layer.forward(PublicEncodedTensor(image_batch))\n",
    "#backward pass (with random update)\n",
    "delta = PublicEncodedTensor(np.random.normal(size=output.shape))\n",
    "lr = 0.01\n",
    "_ = conv_layer.backward(d_y=delta, learning_rate=lr)"
   ]
  },
  {
   "cell_type": "markdown",
   "metadata": {},
   "source": [
    "## PrivateEncodedTensor"
   ]
  },
  {
   "cell_type": "code",
   "execution_count": 24,
   "metadata": {
    "collapsed": false
   },
   "outputs": [],
   "source": [
    "# forward pass\n",
    "conv_layer = Conv2D((4, 4, 1, 20), strides=2, filter_init=lambda shp: np.random.normal(scale=0.01, size=shp))\n",
    "conv_layer.initialize()\n",
    "output = conv_layer.forward(PrivateEncodedTensor(image_batch))\n",
    "#backward pass (with random update)\n",
    "delta = PrivateEncodedTensor(np.random.normal(size=output.shape))\n",
    "lr = 0.01\n",
    "_ = conv_layer.backward(d_y=delta, learning_rate=lr)"
   ]
  }
 ],
 "metadata": {
  "anaconda-cloud": {},
  "kernelspec": {
   "display_name": "Python [conda env:openmined]",
   "language": "python",
   "name": "conda-env-openmined-py"
  },
  "language_info": {
   "codemirror_mode": {
    "name": "ipython",
    "version": 3
   },
   "file_extension": ".py",
   "mimetype": "text/x-python",
   "name": "python",
   "nbconvert_exporter": "python",
   "pygments_lexer": "ipython3",
   "version": "3.6.2"
  }
 },
 "nbformat": 4,
 "nbformat_minor": 2
}
