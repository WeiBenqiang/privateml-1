{
 "cells": [
  {
   "cell_type": "code",
   "execution_count": 1,
   "metadata": {
    "collapsed": false
   },
   "outputs": [
    {
     "name": "stderr",
     "output_type": "stream",
     "text": [
      "/home/koen/anaconda2/envs/openmined/lib/python3.6/site-packages/h5py/__init__.py:36: FutureWarning: Conversion of the second argument of issubdtype from `float` to `np.floating` is deprecated. In future, it will be treated as `np.float64 == np.dtype(float).type`.\n",
      "  from ._conv import register_converters as _register_converters\n",
      "Using TensorFlow backend.\n"
     ]
    }
   ],
   "source": [
    "import keras\n",
    "import numpy as np\n",
    "from pond.tensor import NativeTensor, PrivateEncodedTensor, PublicEncodedTensor\n",
    "from pond.nn import Dense\n",
    "import time"
   ]
  },
  {
   "cell_type": "markdown",
   "metadata": {},
   "source": [
    "## Conv2D Layer\n",
    "\n",
    "Some small unit-tests for the Conv2D layer. run forward pass with mnist image, and backward pass with random noise"
   ]
  },
  {
   "cell_type": "code",
   "execution_count": 2,
   "metadata": {
    "collapsed": false
   },
   "outputs": [],
   "source": [
    "\n",
    "class Conv2DNaive():\n",
    "        \n",
    "    def __init__(self, fshape, strides=1, filter_init=lambda shp: np.random.normal(scale=0.1, size=shp)):\n",
    "        \"\"\" 2 Dimensional convolutional layer\n",
    "            fshape: tuple of rank 4\n",
    "            strides: int with stride size\n",
    "            filter init: lambda function with shape parameter\n",
    "            Example: Conv2D((4, 4, 1, 20), strides=2, filter_init=lambda shp: np.random.normal(scale=0.01, size=shp))       \n",
    "        \"\"\"\n",
    "        self.fshape = fshape\n",
    "        self.strides = strides\n",
    "        self.filter_init = filter_init\n",
    "        self.cache = None\n",
    "        self.initializer = None\n",
    "        \n",
    "    def initialize(self):\n",
    "        self.filters = self.filter_init(self.fshape)\n",
    "\n",
    "    def forward(self, x):\n",
    "        # TODO: padding \n",
    "        s = (x.shape[1] - self.fshape[0]) // self.strides + 1\n",
    "        self.initializer =  type(x)\n",
    "        fmap = self.initializer(np.zeros((x.shape[0], s, s, self.fshape[-1])))\n",
    "        \n",
    "        for j in range(s):\n",
    "            for i in range(s):\n",
    "                fmap[:, j, i, :] = (x[:, j * self.strides:j * self.strides + self.fshape[0], i * self.strides:i * self.strides + self.fshape[1], :, np.newaxis] * self.filters).sum(axis=(1, 2, 3))\n",
    "        self.cache = x\n",
    "        return fmap\n",
    "    \n",
    "    def backward(self, d_y, learning_rate):\n",
    "        x = self.cache\n",
    "        # compute gradients for internal parameters and update\n",
    "        d_weights = self.get_grad(x, d_y)\n",
    "        self.filters = (d_weights * learning_rate).neg() + self.filters\n",
    "        # compute and return external gradient\n",
    "        d_x = self.backwarded_error(d_y)\n",
    "        return d_x\n",
    "    \n",
    "    def backwarded_error(self, layer_err):\n",
    "        bfmap_shape = (layer_err.shape[1] - 1) * self.strides + self.fshape[0]\n",
    "        backwarded_fmap = self.initializer(np.zeros((layer_err.shape[0], bfmap_shape, bfmap_shape, self.fshape[-2])))\n",
    "        s = (backwarded_fmap.shape[1] - self.fshape[0]) // self.strides + 1\n",
    "        for j in range(s):\n",
    "            for i in range(s):\n",
    "                backwarded_fmap[:, j * self.strides:j  * self.strides + self.fshape[0], i * self.strides:i * self.strides + self.fshape[1]] += (self.filters[np.newaxis, ...] * layer_err[:, j:j+1, i:i+1, np.newaxis, :]).sum(axis=4)\n",
    "        return backwarded_fmap\n",
    "\n",
    "    def get_grad(self, x, layer_err):\n",
    "        total_layer_err = layer_err.sum(axis=(0, 1, 2))\n",
    "        filters_err = self.initializer(np.zeros(self.fshape))\n",
    "        s = (x.shape[1] - self.fshape[0]) // self.strides + 1\n",
    "        summed_x = x.sum(axis=0)\n",
    "        for j in range(s):\n",
    "            for i in range(s):\n",
    "                filters_err += summed_x[j  * self.strides:j * self.strides + self.fshape[0], i * self.strides:i * self.strides + self.fshape[1], :, np.newaxis]\n",
    "        return filters_err * total_layer_err\n",
    "\n"
   ]
  },
  {
   "cell_type": "code",
   "execution_count": 3,
   "metadata": {
    "collapsed": false
   },
   "outputs": [],
   "source": [
    "# read data\n",
    "(x_train, y_train), (x_test, y_test) = keras.datasets.mnist.load_data()\n",
    "image_batch = x_train[0:64,:,:,np.newaxis] / 255.0"
   ]
  },
  {
   "cell_type": "markdown",
   "metadata": {},
   "source": [
    "## NativeTensor"
   ]
  },
  {
   "cell_type": "code",
   "execution_count": 4,
   "metadata": {
    "collapsed": false
   },
   "outputs": [
    {
     "name": "stdout",
     "output_type": "stream",
     "text": [
      "0.021920442581176758\n"
     ]
    }
   ],
   "source": [
    "# forward pass\n",
    "conv_layer = Conv2DNaive((4, 4, 1, 20), strides=2, filter_init=lambda shp: np.random.normal(scale=0.01, size=shp))\n",
    "conv_layer.initialize()\n",
    "start = time.time()\n",
    "output = conv_layer.forward(NativeTensor(image_batch))\n",
    "print(time.time()-start)\n",
    "#backward pass (with random update)\n",
    "delta = NativeTensor(np.random.normal(size=output.shape))\n",
    "lr = 0.01\n",
    "_ = conv_layer.backward(d_y=delta, learning_rate=lr)"
   ]
  },
  {
   "cell_type": "markdown",
   "metadata": {},
   "source": [
    "## PublicEncodedTensor"
   ]
  },
  {
   "cell_type": "code",
   "execution_count": 23,
   "metadata": {
    "collapsed": false
   },
   "outputs": [],
   "source": [
    "# forward pass\n",
    "conv_layer = Conv2DNaive((4, 4, 1, 20), strides=2, filter_init=lambda shp: np.random.normal(scale=0.01, size=shp))\n",
    "conv_layer.initialize()\n",
    "output = conv_layer.forward(PublicEncodedTensor(image_batch))\n",
    "#backward pass (with random update)\n",
    "delta = PublicEncodedTensor(np.random.normal(size=output.shape))\n",
    "lr = 0.01\n",
    "_ = conv_layer.backward(d_y=delta, learning_rate=lr)"
   ]
  },
  {
   "cell_type": "markdown",
   "metadata": {},
   "source": [
    "## PrivateEncodedTensor"
   ]
  },
  {
   "cell_type": "code",
   "execution_count": 24,
   "metadata": {
    "collapsed": false
   },
   "outputs": [],
   "source": [
    "# forward pass\n",
    "conv_layer = Conv2DNaive((4, 4, 1, 20), strides=2, filter_init=lambda shp: np.random.normal(scale=0.01, size=shp))\n",
    "conv_layer.initialize()\n",
    "output = conv_layer.forward(PrivateEncodedTensor(image_batch))\n",
    "#backward pass (with random update)\n",
    "delta = PrivateEncodedTensor(np.random.normal(size=output.shape))\n",
    "lr = 0.01\n",
    "_ = conv_layer.backward(d_y=delta, learning_rate=lr)"
   ]
  },
  {
   "cell_type": "code",
   "execution_count": 61,
   "metadata": {
    "collapsed": false
   },
   "outputs": [],
   "source": [
    "def get_im2col_indices(x_shape, field_height, field_width, padding=1, stride=1):\n",
    "    # First figure out what the size of the output should be\n",
    "    N, H, W, C = x_shape\n",
    "    assert (H + 2 * padding - field_height) % stride == 0\n",
    "    assert (W + 2 * padding - field_height) % stride == 0\n",
    "    out_height = int((H + 2 * padding - field_height) / stride + 1)\n",
    "    out_width = int((W + 2 * padding - field_width) / stride + 1)\n",
    "\n",
    "    i0 = np.repeat(np.arange(field_height), field_width)\n",
    "    i0 = np.tile(i0, C)\n",
    "    i1 = stride * np.repeat(np.arange(out_height), out_width)\n",
    "    j0 = np.tile(np.arange(field_width), field_height * C)\n",
    "    j1 = stride * np.tile(np.arange(out_width), out_height)\n",
    "    i = i0.reshape(-1, 1) + i1.reshape(1, -1)\n",
    "    j = j0.reshape(-1, 1) + j1.reshape(1, -1)\n",
    "\n",
    "    k = np.repeat(np.arange(C), field_height * field_width).reshape(-1, 1)\n",
    "    return (i, j, k)\n",
    "\n",
    "\n",
    "def im2col_indices(x, field_height, field_width, padding=0, stride=1):\n",
    "    \"\"\" An implementation of im2col based on some fancy indexing \"\"\"\n",
    "    # Zero-pad the input\n",
    "    p = padding\n",
    "    x_padded = np.pad(x, ((0, 0), (p, p), (p, p), (0, 0)), mode='constant')\n",
    "    i, j, k = get_im2col_indices(x.shape, field_height, field_width, padding,\n",
    "                               stride)\n",
    "    cols = x_padded[:, i, j, k].transpose(0, 2, 1)\n",
    "#     print(cols.shape)\n",
    "#     C = x.shape[3]\n",
    "#     cols = cols.transpose(1, 2, 0).reshape(field_height * field_width * C, -1)\n",
    "    return cols\n",
    "\n",
    "\n",
    "def col2im_indices(cols, x_shape, field_height=3, field_width=3, padding=1,\n",
    "                   stride=1):\n",
    "    \"\"\" An implementation of col2im based on fancy indexing and np.add.at \"\"\"\n",
    "    N, C, H, W = x_shape\n",
    "    H_padded, W_padded = H + 2 * padding, W + 2 * padding\n",
    "    x_padded = np.zeros((N, C, H_padded, W_padded), dtype=cols.dtype)\n",
    "    k, i, j = get_im2col_indices(x_shape, field_height, field_width, padding,\n",
    "                               stride)\n",
    "    cols_reshaped = cols.reshape(C * field_height * field_width, -1, N)\n",
    "    cols_reshaped = cols_reshaped.transpose(2, 0, 1)\n",
    "    np.add.at(x_padded, (slice(None), k, i, j), cols_reshaped)\n",
    "    if padding == 0:\n",
    "        return x_padded\n",
    "    return x_padded[:, :, padding:-padding, padding:-padding]"
   ]
  },
  {
   "cell_type": "code",
   "execution_count": 5,
   "metadata": {
    "collapsed": false
   },
   "outputs": [
    {
     "name": "stdout",
     "output_type": "stream",
     "text": [
      "(64, 28, 28, 1)\n"
     ]
    },
    {
     "ename": "NameError",
     "evalue": "name 'im2col_indices' is not defined",
     "traceback": [
      "\u001b[0;31m---------------------------------------------------------------------------\u001b[0m",
      "\u001b[0;31mNameError\u001b[0m                                 Traceback (most recent call last)",
      "\u001b[0;32m<ipython-input-5-61b3f2bf4cda>\u001b[0m in \u001b[0;36m<module>\u001b[0;34m()\u001b[0m\n\u001b[1;32m      1\u001b[0m \u001b[0mprint\u001b[0m\u001b[0;34m(\u001b[0m\u001b[0mimage_batch\u001b[0m\u001b[0;34m.\u001b[0m\u001b[0mshape\u001b[0m\u001b[0;34m)\u001b[0m\u001b[0;34m\u001b[0m\u001b[0m\n\u001b[0;32m----> 2\u001b[0;31m \u001b[0mout\u001b[0m \u001b[0;34m=\u001b[0m \u001b[0mim2col_indices\u001b[0m\u001b[0;34m(\u001b[0m\u001b[0mimage_batch\u001b[0m\u001b[0;34m,\u001b[0m \u001b[0;36m3\u001b[0m\u001b[0;34m,\u001b[0m \u001b[0;36m3\u001b[0m\u001b[0;34m)\u001b[0m\u001b[0;34m\u001b[0m\u001b[0m\n\u001b[0m",
      "\u001b[0;31mNameError\u001b[0m: name 'im2col_indices' is not defined"
     ],
     "output_type": "error"
    }
   ],
   "source": [
    "print(image_batch.shape)\n",
    "out = im2col_indices(image_batch, 3, 3)"
   ]
  },
  {
   "cell_type": "code",
   "execution_count": 63,
   "metadata": {
    "collapsed": false
   },
   "outputs": [
    {
     "name": "stdout",
     "output_type": "stream",
     "text": [
      "(64, 676, 9)\n"
     ]
    }
   ],
   "source": [
    "print(out.shape)"
   ]
  },
  {
   "cell_type": "code",
   "execution_count": null,
   "metadata": {
    "collapsed": true
   },
   "outputs": [],
   "source": [
    "class Conv2D():\n",
    "        \n",
    "    def __init__(self, fshape, strides=1, filter_init=lambda shp: np.random.normal(scale=0.1, size=shp)):\n",
    "        \"\"\" 2 Dimensional convolutional layer\n",
    "            fshape: tuple of rank 4\n",
    "            strides: int with stride size\n",
    "            filter init: lambda function with shape parameter\n",
    "            Example: Conv2D((4, 4, 1, 20), strides=2, filter_init=lambda shp: np.random.normal(scale=0.01, size=shp))       \n",
    "        \"\"\"\n",
    "        self.fshape = fshape\n",
    "        self.strides = strides\n",
    "        self.filter_init = filter_init\n",
    "        self.cache = None\n",
    "        self.initializer = None\n",
    "        \n",
    "    def initialize(self):\n",
    "        self.filters = self.filter_init(self.fshape)\n",
    "\n",
    "    def forward(self, x):\n",
    "        # TODO: padding \n",
    "        s = (x.shape[1] - self.fshape[0]) // self.strides + 1\n",
    "        self.initializer =  type(x)\n",
    "        fmap = self.initializer(np.zeros((x.shape[0], s, s, self.fshape[-1])))\n",
    "        \n",
    "        for j in range(s):\n",
    "            for i in range(s):\n",
    "                fmap[:, j, i, :] = (x[:, j * self.strides:j * self.strides + self.fshape[0], i * self.strides:i * self.strides + self.fshape[1], :, np.newaxis] * self.filters).sum(axis=(1, 2, 3))\n",
    "        self.cache = x\n",
    "        return fmap\n",
    "    \n",
    "    def backward(self, d_y, learning_rate):\n",
    "        x = self.cache\n",
    "        # compute gradients for internal parameters and update\n",
    "        d_weights = self.get_grad(x, d_y)\n",
    "        self.filters = (d_weights * learning_rate).neg() + self.filters\n",
    "        # compute and return external gradient\n",
    "        d_x = self.backwarded_error(d_y)\n",
    "        return d_x\n",
    "    \n",
    "    def backwarded_error(self, layer_err):\n",
    "        bfmap_shape = (layer_err.shape[1] - 1) * self.strides + self.fshape[0]\n",
    "        backwarded_fmap = self.initializer(np.zeros((layer_err.shape[0], bfmap_shape, bfmap_shape, self.fshape[-2])))\n",
    "        s = (backwarded_fmap.shape[1] - self.fshape[0]) // self.strides + 1\n",
    "        for j in range(s):\n",
    "            for i in range(s):\n",
    "                backwarded_fmap[:, j * self.strides:j  * self.strides + self.fshape[0], i * self.strides:i * self.strides + self.fshape[1]] += (self.filters[np.newaxis, ...] * layer_err[:, j:j+1, i:i+1, np.newaxis, :]).sum(axis=4)\n",
    "        return backwarded_fmap\n",
    "\n",
    "    def get_grad(self, x, layer_err):\n",
    "        total_layer_err = layer_err.sum(axis=(0, 1, 2))\n",
    "        filters_err = self.initializer(np.zeros(self.fshape))\n",
    "        s = (x.shape[1] - self.fshape[0]) // self.strides + 1\n",
    "        summed_x = x.sum(axis=0)\n",
    "        for j in range(s):\n",
    "            for i in range(s):\n",
    "                filters_err += summed_x[j  * self.strides:j * self.strides + self.fshape[0], i * self.strides:i * self.strides + self.fshape[1], :, np.newaxis]\n",
    "        return filters_err * total_layer_err\n"
   ]
  }
 ],
 "metadata": {
  "anaconda-cloud": {},
  "kernelspec": {
   "display_name": "Python [conda env:openmined]",
   "language": "python",
   "name": "conda-env-openmined-py"
  },
  "language_info": {
   "codemirror_mode": {
    "name": "ipython",
    "version": 3
   },
   "file_extension": ".py",
   "mimetype": "text/x-python",
   "name": "python",
   "nbconvert_exporter": "python",
   "pygments_lexer": "ipython3",
   "version": "3.6.2"
  }
 },
 "nbformat": 4,
 "nbformat_minor": 2
}
