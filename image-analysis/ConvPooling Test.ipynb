{
 "cells": [
  {
   "cell_type": "code",
   "execution_count": 15,
   "metadata": {
    "collapsed": false
   },
   "outputs": [],
   "source": [
    "import keras\n",
    "import numpy as np\n",
    "from pond.tensor import NativeTensor, PrivateEncodedTensor, PublicEncodedTensor\n",
    "from pond.nn import Dense, Sigmoid, Reveal, Diff, Softmax, CrossEntropy, Sequential, DataLoader, Conv2D, AveragePooling2D, Flatten\n",
    "from datetime import datetime\n",
    "from keras.utils import to_categorical"
   ]
  },
  {
   "cell_type": "markdown",
   "metadata": {},
   "source": [
    "## Convnet using NativeTensor"
   ]
  },
  {
   "cell_type": "code",
   "execution_count": 16,
   "metadata": {
    "collapsed": false
   },
   "outputs": [],
   "source": [
    "# read data\n",
    "(x_train, y_train), (x_test, y_test) = keras.datasets.mnist.load_data()\n",
    "x_train = x_train[:,:,:,np.newaxis] / 255.0\n",
    "x_test = x_test[:,:,:,np.newaxis] / 255.0\n",
    "y_train = to_categorical(y_train, 10)\n",
    "y_test = to_categorical(y_test, 10)"
   ]
  },
  {
   "cell_type": "markdown",
   "metadata": {},
   "source": [
    "## Define model"
   ]
  },
  {
   "cell_type": "code",
   "execution_count": 17,
   "metadata": {
    "collapsed": false
   },
   "outputs": [],
   "source": [
    "classifier = Sequential([\n",
    "    Conv2D((4, 4, 1, 20), strides=2, filter_init=lambda shp: np.random.normal(scale=0.01, size=shp)),\n",
    "    Sigmoid(),\n",
    "    Conv2D((3, 3, 20, 20), strides=2, filter_init=lambda shp: np.random.normal(scale=0.01, size=shp)),\n",
    "    Sigmoid(),\n",
    "    AveragePooling2D(pool_size=(2,2)),\n",
    "    Flatten(),\n",
    "    Dense(10, 180),\n",
    "    Reveal(),\n",
    "    Softmax()\n",
    "])"
   ]
  },
  {
   "cell_type": "markdown",
   "metadata": {},
   "source": [
    "## Train"
   ]
  },
  {
   "cell_type": "code",
   "execution_count": 19,
   "metadata": {
    "collapsed": false
   },
   "outputs": [
    {
     "name": "stdout",
     "output_type": "stream",
     "text": [
      "2018-02-16 14:49:29.558306 Epoch 0\n",
      "Elapsed: 0:02:40.238792\n"
     ]
    }
   ],
   "source": [
    "classifier.initialize()\n",
    "start = datetime.now()\n",
    "classifier.fit(\n",
    "    x_train=DataLoader(x_train, wrapper=NativeTensor), \n",
    "    y_train=DataLoader(y_train, wrapper=NativeTensor), \n",
    "    loss=CrossEntropy(), \n",
    "    epochs=1,\n",
    "    batch_size=600,\n",
    "    verbose=1\n",
    ")\n",
    "stop = datetime.now()\n",
    "print(\"Elapsed:\", stop - start)"
   ]
  },
  {
   "cell_type": "markdown",
   "metadata": {},
   "source": [
    "## Test"
   ]
  },
  {
   "cell_type": "code",
   "execution_count": 20,
   "metadata": {
    "collapsed": false
   },
   "outputs": [
    {
     "name": "stdout",
     "output_type": "stream",
     "text": [
      "final accuracy: 0.106 \n"
     ]
    }
   ],
   "source": [
    "predictions = classifier.predict(\n",
    "    x=DataLoader(x_test, wrapper=NativeTensor),\n",
    "    batch_size=600\n",
    "                  )\n",
    "accuracy = np.mean(y_test.argmax(axis=1) == predictions.unwrap().argmax(axis=1))\n",
    "print(\"final accuracy: {} \".format(accuracy))"
   ]
  },
  {
   "cell_type": "markdown",
   "metadata": {},
   "source": [
    "## PublicEncodedTensor (Not tested yet)"
   ]
  },
  {
   "cell_type": "markdown",
   "metadata": {},
   "source": [
    "## Train"
   ]
  },
  {
   "cell_type": "code",
   "execution_count": null,
   "metadata": {
    "collapsed": false
   },
   "outputs": [],
   "source": [
    "classifier.initialize()\n",
    "start = datetime.now()\n",
    "classifier.fit(\n",
    "    x_train=DataLoader(x_train, wrapper=PublicEncodedTensor), \n",
    "    y_train=DataLoader(y_train, wrapper=PublicEncodedTensor), \n",
    "    loss=CrossEntropy(), \n",
    "    epochs=1,\n",
    "    batch_size=600,\n",
    "    verbose=1\n",
    ")\n",
    "stop = datetime.now()\n",
    "print(\"Elapsed:\", stop - start)"
   ]
  },
  {
   "cell_type": "markdown",
   "metadata": {},
   "source": [
    "## Test"
   ]
  },
  {
   "cell_type": "code",
   "execution_count": null,
   "metadata": {
    "collapsed": false
   },
   "outputs": [],
   "source": [
    "predictions = classifier.predict(\n",
    "    x=DataLoader(x_test, wrapper=PublicEncodedTensor),\n",
    "    batch_size=600\n",
    "                  )\n",
    "accuracy = np.mean(y_test.argmax(axis=1) == predictions.unwrap().argmax(axis=1))\n",
    "print(\"final accuracy: {} \".format(accuracy))"
   ]
  },
  {
   "cell_type": "markdown",
   "metadata": {},
   "source": [
    "## PrivateEncodedTensor (not tested yet)"
   ]
  },
  {
   "cell_type": "code",
   "execution_count": null,
   "metadata": {
    "collapsed": false
   },
   "outputs": [],
   "source": [
    "classifier.initialize()\n",
    "start = datetime.now()\n",
    "classifier.fit(\n",
    "    x_train=DataLoader(x_train, wrapper=PrivateEncodedTensor), \n",
    "    y_train=DataLoader(y_train, wrapper=PrivateEncodedTensor), \n",
    "    loss=CrossEntropy(), \n",
    "    epochs=1,\n",
    "    batch_size=600,\n",
    "    verbose=1\n",
    ")\n",
    "stop = datetime.now()\n",
    "print(\"Elapsed:\", stop - start)"
   ]
  },
  {
   "cell_type": "markdown",
   "metadata": {},
   "source": [
    "## Test"
   ]
  },
  {
   "cell_type": "code",
   "execution_count": null,
   "metadata": {
    "collapsed": true
   },
   "outputs": [],
   "source": [
    "predictions = classifier.predict(\n",
    "    x=DataLoader(x_test, wrapper=PrivateEncodedTensor),\n",
    "    batch_size=600\n",
    "                  )\n",
    "accuracy = np.mean(y_test.argmax(axis=1) == predictions.unwrap().argmax(axis=1))\n",
    "print(\"final accuracy: {} \".format(accuracy))"
   ]
  }
 ],
 "metadata": {
  "anaconda-cloud": {},
  "kernelspec": {
   "display_name": "Python [conda env:openmined]",
   "language": "python",
   "name": "conda-env-openmined-py"
  },
  "language_info": {
   "codemirror_mode": {
    "name": "ipython",
    "version": 3
   },
   "file_extension": ".py",
   "mimetype": "text/x-python",
   "name": "python",
   "nbconvert_exporter": "python",
   "pygments_lexer": "ipython3",
   "version": "3.6.2"
  }
 },
 "nbformat": 4,
 "nbformat_minor": 2
}
