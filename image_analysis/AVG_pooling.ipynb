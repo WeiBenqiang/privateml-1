{
 "cells": [
  {
   "cell_type": "code",
   "execution_count": 1,
   "metadata": {
    "collapsed": false
   },
   "outputs": [
    {
     "name": "stderr",
     "output_type": "stream",
     "text": [
      "/home/koen/anaconda2/envs/openmined/lib/python3.6/site-packages/h5py/__init__.py:36: FutureWarning: Conversion of the second argument of issubdtype from `float` to `np.floating` is deprecated. In future, it will be treated as `np.float64 == np.dtype(float).type`.\n",
      "  from ._conv import register_converters as _register_converters\n",
      "Using TensorFlow backend.\n"
     ]
    }
   ],
   "source": [
    "import keras\n",
    "import numpy as np\n",
    "from pond.tensor import NativeTensor, PrivateEncodedTensor, PublicEncodedTensor"
   ]
  },
  {
   "cell_type": "markdown",
   "metadata": {},
   "source": [
    "## Average Pooling Layer with NativeTensor\n",
    "Some small unit-tests for the AVG pooling layer. run forward pass with mnist image, and backward pass with random noise"
   ]
  },
  {
   "cell_type": "code",
   "execution_count": 2,
   "metadata": {
    "collapsed": false
   },
   "outputs": [],
   "source": [
    "class AveragePooling2D():\n",
    "\n",
    "    def __init__(self, pool_size, strides=None):\n",
    "        \"\"\" Average Pooling layer\n",
    "            pool_size: (n x m) tuple\n",
    "            strides: int with stride size\n",
    "            Example: AveragePooling2D(pool_size=(2,2))\n",
    "        \"\"\"\n",
    "        self.pool_size = pool_size\n",
    "        self.pool_area = pool_size[0] * pool_size[1]\n",
    "        self.cache = None\n",
    "        self.initializer = None\n",
    "        if strides == None:\n",
    "            self.strides = pool_size[0]\n",
    "        else:\n",
    "            self.strides = strides\n",
    "\n",
    "    def initialize(self):\n",
    "        pass\n",
    "\n",
    "    def forward(self,x):\n",
    "        s = (x.shape[1] - self.pool_size[0]) // self.strides + 1\n",
    "        self.initializer = type(x)\n",
    "        pooled = self.initializer(np.zeros((x.shape[0], s, s, x.shape[3])))\n",
    "        for j in range(s):\n",
    "            for i in range(s):\n",
    "                pooled[:, j, i, :] = x[:, j * self.strides:j * self.strides + self.pool_size[0], i * self.strides:i * self.strides + self.pool_size[1], :].sum(axis=(1, 2))\n",
    "        \n",
    "        pooled = pooled / self.pool_area\n",
    "        self.cache = x\n",
    "        return pooled\n",
    "    \n",
    "    def backward(self, d_y, learning_rate):\n",
    "        x = self.cache\n",
    "        d_y_expanded = d_y.repeat(self.pool_size[0], axis=1)\n",
    "        d_y_expanded = d_y_expanded.repeat(self.pool_size[1], axis=2)\n",
    "        d_x = d_y_expanded * x / self.pool_area\n",
    "        return d_x      \n",
    "    "
   ]
  },
  {
   "cell_type": "code",
   "execution_count": 3,
   "metadata": {
    "collapsed": false
   },
   "outputs": [],
   "source": [
    "# read data\n",
    "(x_train, y_train), (x_test, y_test) = keras.datasets.mnist.load_data()\n",
    "image_batch = x_train[0:64,:,:,np.newaxis] / 255.0"
   ]
  },
  {
   "cell_type": "markdown",
   "metadata": {},
   "source": [
    "## NativeTensor"
   ]
  },
  {
   "cell_type": "code",
   "execution_count": 4,
   "metadata": {
    "collapsed": false
   },
   "outputs": [],
   "source": [
    "# forward pass\n",
    "avg_pooling_layer = AveragePooling2D(pool_size=(2,2))\n",
    "output = avg_pooling_layer.forward(NativeTensor(image_batch))\n",
    "# backward pass (with random update)\n",
    "delta = NativeTensor(np.random.normal(loc=1, scale=100, size=output.shape))\n",
    "lr = 0.01\n",
    "_ = avg_pooling_layer.backward(d_y=delta, learning_rate=lr)"
   ]
  },
  {
   "cell_type": "markdown",
   "metadata": {
    "collapsed": true
   },
   "source": [
    "## PublicEncodedTensor"
   ]
  },
  {
   "cell_type": "code",
   "execution_count": 5,
   "metadata": {
    "collapsed": false
   },
   "outputs": [],
   "source": [
    "# forward pass\n",
    "avg_pooling_layer = AveragePooling2D(pool_size=(2,2))\n",
    "output = avg_pooling_layer.forward(PublicEncodedTensor(image_batch))\n",
    "# backward pass (with random update)\n",
    "delta = PublicEncodedTensor(np.random.normal(loc=1, scale=100, size=output.shape))\n",
    "lr = 0.01\n",
    "_ = avg_pooling_layer.backward(d_y=delta, learning_rate=lr)"
   ]
  },
  {
   "cell_type": "markdown",
   "metadata": {},
   "source": [
    "## PrivateEncodedTensor"
   ]
  },
  {
   "cell_type": "code",
   "execution_count": 6,
   "metadata": {
    "collapsed": true
   },
   "outputs": [],
   "source": [
    "# forward pass\n",
    "avg_pooling_layer = AveragePooling2D(pool_size=(2,2))\n",
    "output = avg_pooling_layer.forward(PrivateEncodedTensor(image_batch))\n",
    "# backward pass (with random update)\n",
    "delta = PrivateEncodedTensor(np.random.normal(loc=1, scale=100, size=output.shape))\n",
    "lr = 0.01\n",
    "_ = avg_pooling_layer.backward(d_y=delta, learning_rate=lr)"
   ]
  },
  {
   "cell_type": "code",
   "execution_count": null,
   "metadata": {
    "collapsed": true
   },
   "outputs": [],
   "source": []
  }
 ],
 "metadata": {
  "anaconda-cloud": {},
  "kernelspec": {
   "display_name": "Python [conda env:openmined]",
   "language": "python",
   "name": "conda-env-openmined-py"
  },
  "language_info": {
   "codemirror_mode": {
    "name": "ipython",
    "version": 3
   },
   "file_extension": ".py",
   "mimetype": "text/x-python",
   "name": "python",
   "nbconvert_exporter": "python",
   "pygments_lexer": "ipython3",
   "version": "3.6.2"
  }
 },
 "nbformat": 4,
 "nbformat_minor": 2
}
