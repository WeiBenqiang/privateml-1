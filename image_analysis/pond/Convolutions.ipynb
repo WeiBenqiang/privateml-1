{
 "cells": [
  {
   "cell_type": "code",
   "execution_count": 32,
   "metadata": {},
   "outputs": [],
   "source": [
    "import keras\n",
    "import numpy as np\n",
    "from pond.tensor import NativeTensor, PrivateEncodedTensor, PublicEncodedTensor\n",
    "from pond.nn import Dense\n",
    "import time"
   ]
  },
  {
   "cell_type": "markdown",
   "metadata": {},
   "source": [
    "## Conv2D Layer\n",
    "\n",
    "Some small unit-tests for the Conv2D layer. run forward pass with mnist image, and backward pass with random noise"
   ]
  },
  {
   "cell_type": "code",
   "execution_count": 33,
   "metadata": {},
   "outputs": [],
   "source": [
    "\n",
    "class Conv2DNaive():\n",
    "        \n",
    "    def __init__(self, fshape, strides=1, filter_init=lambda shp: np.random.normal(scale=0.1, size=shp)):\n",
    "        \"\"\" 2 Dimensional convolutional layer\n",
    "            fshape: tuple of rank 4\n",
    "            strides: int with stride size\n",
    "            filter init: lambda function with shape parameter\n",
    "            Example: Conv2D((4, 4, 1, 20), strides=2, filter_init=lambda shp: np.random.normal(scale=0.01, size=shp))       \n",
    "        \"\"\"\n",
    "        self.fshape = fshape\n",
    "        self.strides = strides\n",
    "        self.filter_init = filter_init\n",
    "        self.cache = None\n",
    "        self.initializer = None\n",
    "        \n",
    "    def initialize(self):\n",
    "        self.filters = self.filter_init(self.fshape)\n",
    "\n",
    "    def forward(self, x):\n",
    "        # TODO: padding \n",
    "        s = (x.shape[1] - self.fshape[0]) // self.strides + 1\n",
    "        self.initializer =  type(x)\n",
    "        fmap = self.initializer(np.zeros((x.shape[0], s, s, self.fshape[-1])))\n",
    "        \n",
    "        for j in range(s):\n",
    "            for i in range(s):\n",
    "                fmap[:, j, i, :] = (x[:, j * self.strides:j * self.strides + self.fshape[0], i * self.strides:i * self.strides + self.fshape[1], :, np.newaxis] * self.filters).sum(axis=(1, 2, 3))\n",
    "        self.cache = x\n",
    "        return fmap\n",
    "    \n",
    "    def backward(self, d_y, learning_rate):\n",
    "        x = self.cache\n",
    "        # compute gradients for internal parameters and update\n",
    "        d_weights = self.get_grad(x, d_y)\n",
    "        self.filters = (d_weights * learning_rate).neg() + self.filters\n",
    "        # compute and return external gradient\n",
    "        d_x = self.backwarded_error(d_y)\n",
    "        return d_x\n",
    "    \n",
    "    def backwarded_error(self, layer_err):\n",
    "        bfmap_shape = (layer_err.shape[1] - 1) * self.strides + self.fshape[0]\n",
    "        backwarded_fmap = self.initializer(np.zeros((layer_err.shape[0], bfmap_shape, bfmap_shape, self.fshape[-2])))\n",
    "        s = (backwarded_fmap.shape[1] - self.fshape[0]) // self.strides + 1\n",
    "        for j in range(s):\n",
    "            for i in range(s):\n",
    "                backwarded_fmap[:, j * self.strides:j  * self.strides + self.fshape[0], i * self.strides:i * self.strides + self.fshape[1]] += (self.filters[np.newaxis, ...] * layer_err[:, j:j+1, i:i+1, np.newaxis, :]).sum(axis=4)\n",
    "        return backwarded_fmap\n",
    "\n",
    "    def get_grad(self, x, layer_err):\n",
    "        total_layer_err = layer_err.sum(axis=(0, 1, 2))\n",
    "        filters_err = self.initializer(np.zeros(self.fshape))\n",
    "        s = (x.shape[1] - self.fshape[0]) // self.strides + 1\n",
    "        summed_x = x.sum(axis=0)\n",
    "        for j in range(s):\n",
    "            for i in range(s):\n",
    "                filters_err += summed_x[j  * self.strides:j * self.strides + self.fshape[0], i * self.strides:i * self.strides + self.fshape[1], :, np.newaxis]\n",
    "        return filters_err * total_layer_err\n",
    "\n"
   ]
  },
  {
   "cell_type": "code",
   "execution_count": 34,
   "metadata": {},
   "outputs": [],
   "source": [
    "# read data\n",
    "(x_train, y_train), (x_test, y_test) = keras.datasets.mnist.load_data()\n",
    "image_batch = x_train[0:64,:,:,np.newaxis] / 255.0"
   ]
  },
  {
   "cell_type": "markdown",
   "metadata": {},
   "source": [
    "## NativeTensor"
   ]
  },
  {
   "cell_type": "code",
   "execution_count": 35,
   "metadata": {},
   "outputs": [
    {
     "name": "stdout",
     "output_type": "stream",
     "text": [
      "0.06033015251159668\n"
     ]
    }
   ],
   "source": [
    "# forward pass\n",
    "conv_layer = Conv2DNaive((4, 4, 1, 20), strides=2, filter_init=lambda shp: np.random.normal(scale=0.01, size=shp))\n",
    "conv_layer.initialize()\n",
    "start = time.time()\n",
    "output = conv_layer.forward(NativeTensor(image_batch))\n",
    "#backward pass (with random update)\n",
    "delta = NativeTensor(np.random.normal(size=output.shape))\n",
    "lr = 0.01\n",
    "_ = conv_layer.backward(d_y=delta, learning_rate=lr)\n",
    "print(time.time()-start)"
   ]
  },
  {
   "cell_type": "markdown",
   "metadata": {},
   "source": [
    "## PublicEncodedTensor"
   ]
  },
  {
   "cell_type": "code",
   "execution_count": 36,
   "metadata": {},
   "outputs": [
    {
     "name": "stdout",
     "output_type": "stream",
     "text": [
      "6.182796239852905\n"
     ]
    }
   ],
   "source": [
    "# forward pass\n",
    "conv_layer = Conv2DNaive((4, 4, 1, 20), strides=2, filter_init=lambda shp: np.random.normal(scale=0.01, size=shp))\n",
    "conv_layer.initialize()\n",
    "start = time.time()\n",
    "output = conv_layer.forward(PublicEncodedTensor(image_batch))\n",
    "#backward pass (with random update)\n",
    "delta = PublicEncodedTensor(np.random.normal(size=output.shape))\n",
    "lr = 0.01\n",
    "_ = conv_layer.backward(d_y=delta, learning_rate=lr)\n",
    "print(time.time()-start)"
   ]
  },
  {
   "cell_type": "markdown",
   "metadata": {},
   "source": [
    "## PrivateEncodedTensor"
   ]
  },
  {
   "cell_type": "code",
   "execution_count": 37,
   "metadata": {},
   "outputs": [
    {
     "name": "stdout",
     "output_type": "stream",
     "text": [
      "67.20014929771423\n"
     ]
    }
   ],
   "source": [
    "# forward pass\n",
    "conv_layer = Conv2DNaive((4, 4, 1, 20), strides=2, filter_init=lambda shp: np.random.normal(scale=0.01, size=shp))\n",
    "conv_layer.initialize()\n",
    "start = time.time()\n",
    "output = conv_layer.forward(PrivateEncodedTensor(image_batch))\n",
    "#backward pass (with random update)\n",
    "delta = PrivateEncodedTensor(np.random.normal(size=output.shape))\n",
    "lr = 0.01\n",
    "_ = conv_layer.backward(d_y=delta, learning_rate=lr)\n",
    "print(time.time()-start)"
   ]
  },
  {
   "cell_type": "markdown",
   "metadata": {},
   "source": [
    "## Conv2D optimized"
   ]
  },
  {
   "cell_type": "code",
   "execution_count": 38,
   "metadata": {},
   "outputs": [],
   "source": [
    "from im2col import im2col_indices, col2im_indices\n",
    "# read data in NCHW instead of NHWC for the optimized version\n",
    "image_batch = x_train[0:64,np.newaxis, :,:] / 255.0"
   ]
  },
  {
   "cell_type": "code",
   "execution_count": 39,
   "metadata": {},
   "outputs": [],
   "source": [
    "class Conv2D():\n",
    "    def __init__(self, fshape, strides=1, padding=0, filter_init=lambda shp: np.random.normal(scale=0.1, size=shp),\n",
    "                 channels_first=True):\n",
    "        \"\"\" 2 Dimensional convolutional layer, expects NCHW data format\n",
    "            fshape: tuple of rank 4\n",
    "            strides: int with stride size\n",
    "            filter init: lambda function with shape parameter\n",
    "            Example: Conv2D((4, 4, 1, 20), strides=2, filter_init=lambda shp: np.random.normal(scale=0.01,\n",
    "            size=shp))\n",
    "        \"\"\"\n",
    "        self.fshape = fshape\n",
    "        self.strides = strides\n",
    "        self.padding = padding\n",
    "        self.filter_init = filter_init\n",
    "        self.cache = None\n",
    "        self.cached_input_shape = None\n",
    "        self.initializer = None\n",
    "        assert channels_first\n",
    "\n",
    "    def initialize(self):\n",
    "        self.filters = NativeTensor(self.filter_init(self.fshape))\n",
    "\n",
    "    def forward(self, x):\n",
    "        # TODO: padding\n",
    "        self.initializer = type(x)\n",
    "\n",
    "        # shapes, assuming NCHW\n",
    "        h_filter, w_filter, d_filters, n_filters = self.filters.shape\n",
    "        n_x, d_x, h_x, w_x = x.shape\n",
    "\n",
    "\n",
    "        h_out = int((h_x - h_filter + 2 * self.padding) / self.strides + 1)\n",
    "        w_out = int((w_x - w_filter + 2 * self.padding) / self.strides + 1)\n",
    "\n",
    "        X_col = im2col_indices(x, field_height=h_filter, field_width=w_filter,\n",
    "                               padding=self.padding, stride=self.strides)\n",
    "        W_col = self.filters.reshape(n_filters, -1)\n",
    "        # multiplication\n",
    "        out = W_col.dot(X_col)\n",
    "        out = out.reshape(self.fshape[3], h_out, w_out, n_x)\n",
    "\n",
    "        out = out.reshape(n_filters, h_out, w_out, n_x)\n",
    "        out = out.transpose(3, 0, 1, 2)\n",
    "        self.cache = X_col\n",
    "        self.cached_input_shape = x.shape\n",
    "\n",
    "        return out\n",
    "\n",
    "    def backward(self, d_y, learning_rate):\n",
    "        X_col = self.cache\n",
    "        h_filter, w_filter, d_filter, n_filter = self.filters.shape\n",
    "\n",
    "        dout_reshaped = d_y.transpose(1, 2, 3, 0).reshape(n_filter, -1)\n",
    "        dw = dout_reshaped.dot(X_col.transpose())\n",
    "        dw = dw.reshape(self.filters.shape)\n",
    "        self.filters = (dw * learning_rate).neg() + self.filters\n",
    "\n",
    "        W_reshape = self.filters.reshape(n_filter, -1)\n",
    "        dx_col = W_reshape.transpose().dot(dout_reshaped)\n",
    "        dx = col2im_indices(dx_col, self.cached_input_shape, self.initializer,field_height=h_filter,\n",
    "                            field_width=w_filter, padding=self.padding, stride=self.strides)\n",
    "\n",
    "        return dx\n"
   ]
  },
  {
   "cell_type": "code",
   "execution_count": 40,
   "metadata": {},
   "outputs": [
    {
     "name": "stdout",
     "output_type": "stream",
     "text": [
      "14.625490665435791\n"
     ]
    }
   ],
   "source": [
    "# forward pass\n",
    "conv_layer = Conv2D((4, 4, 1, 20), strides=2, filter_init=lambda shp: np.random.normal(scale=0.01, size=shp))\n",
    "conv_layer.initialize()\n",
    "start = time.time()\n",
    "output = conv_layer.forward(PrivateEncodedTensor(image_batch))\n",
    "#backward pass (with random update)\n",
    "delta = PrivateEncodedTensor(np.random.normal(size=output.shape))\n",
    "lr = 0.01\n",
    "_ = conv_layer.backward(d_y=delta, learning_rate=lr)\n",
    "print(time.time()-start)"
   ]
  },
  {
   "cell_type": "code",
   "execution_count": null,
   "metadata": {},
   "outputs": [],
   "source": []
  }
 ],
 "metadata": {
  "anaconda-cloud": {},
  "kernelspec": {
   "display_name": "openmined",
   "language": "python",
   "name": "openmined"
  },
  "language_info": {
   "codemirror_mode": {
    "name": "ipython",
    "version": 3
   },
   "file_extension": ".py",
   "mimetype": "text/x-python",
   "name": "python",
   "nbconvert_exporter": "python",
   "pygments_lexer": "ipython3",
   "version": "3.6.2"
  }
 },
 "nbformat": 4,
 "nbformat_minor": 2
}
